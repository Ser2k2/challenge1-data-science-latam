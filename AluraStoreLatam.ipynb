{
  "nbformat": 4,
  "nbformat_minor": 0,
  "metadata": {
    "colab": {
      "provenance": []
    },
    "kernelspec": {
      "name": "python3",
      "display_name": "Python 3"
    },
    "language_info": {
      "name": "python"
    }
  },
  "cells": [
    {
      "cell_type": "markdown",
      "source": [
        "### Importación de datos\n",
        "\n"
      ],
      "metadata": {
        "id": "RhEdWd9YUR6H"
      }
    },
    {
      "cell_type": "code",
      "execution_count": null,
      "metadata": {
        "colab": {
          "base_uri": "https://localhost:8080/",
          "height": 293
        },
        "id": "T3EvaeQ_INIL",
        "outputId": "34aa1168-5070-49c4-b424-2992699771dc"
      },
      "outputs": [
        {
          "output_type": "execute_result",
          "data": {
            "text/plain": [
              "            Producto Categoría del Producto    Precio  Costo de envío  \\\n",
              "0  Asistente virtual           Electrónicos  164300.0          6900.0   \n",
              "1    Mesa de comedor                Muebles  192300.0          8400.0   \n",
              "2      Juego de mesa               Juguetes  209600.0         15900.0   \n",
              "3         Microondas      Electrodomésticos  757500.0         41000.0   \n",
              "4   Silla de oficina                Muebles  335200.0         20200.0   \n",
              "\n",
              "  Fecha de Compra         Vendedor Lugar de Compra  Calificación  \\\n",
              "0      16/01/2021      Pedro Gomez          Bogotá             4   \n",
              "1      18/05/2022  Beatriz Morales        Medellín             1   \n",
              "2      15/03/2021   Juan Fernandez       Cartagena             1   \n",
              "3      03/05/2022   Juan Fernandez            Cali             4   \n",
              "4      07/11/2020    Maria Alfonso        Medellín             5   \n",
              "\n",
              "       Método de pago  Cantidad de cuotas       lat       lon  \n",
              "0  Tarjeta de crédito                   8   4.60971 -74.08175  \n",
              "1  Tarjeta de crédito                   4   6.25184 -75.56359  \n",
              "2  Tarjeta de crédito                   1  10.39972 -75.51444  \n",
              "3               Nequi                   1   3.43722 -76.52250  \n",
              "4               Nequi                   1   6.25184 -75.56359  "
            ],
            "text/html": [
              "\n",
              "  <div id=\"df-254d4180-81f9-4134-9b17-8a675f43adc6\" class=\"colab-df-container\">\n",
              "    <div>\n",
              "<style scoped>\n",
              "    .dataframe tbody tr th:only-of-type {\n",
              "        vertical-align: middle;\n",
              "    }\n",
              "\n",
              "    .dataframe tbody tr th {\n",
              "        vertical-align: top;\n",
              "    }\n",
              "\n",
              "    .dataframe thead th {\n",
              "        text-align: right;\n",
              "    }\n",
              "</style>\n",
              "<table border=\"1\" class=\"dataframe\">\n",
              "  <thead>\n",
              "    <tr style=\"text-align: right;\">\n",
              "      <th></th>\n",
              "      <th>Producto</th>\n",
              "      <th>Categoría del Producto</th>\n",
              "      <th>Precio</th>\n",
              "      <th>Costo de envío</th>\n",
              "      <th>Fecha de Compra</th>\n",
              "      <th>Vendedor</th>\n",
              "      <th>Lugar de Compra</th>\n",
              "      <th>Calificación</th>\n",
              "      <th>Método de pago</th>\n",
              "      <th>Cantidad de cuotas</th>\n",
              "      <th>lat</th>\n",
              "      <th>lon</th>\n",
              "    </tr>\n",
              "  </thead>\n",
              "  <tbody>\n",
              "    <tr>\n",
              "      <th>0</th>\n",
              "      <td>Asistente virtual</td>\n",
              "      <td>Electrónicos</td>\n",
              "      <td>164300.0</td>\n",
              "      <td>6900.0</td>\n",
              "      <td>16/01/2021</td>\n",
              "      <td>Pedro Gomez</td>\n",
              "      <td>Bogotá</td>\n",
              "      <td>4</td>\n",
              "      <td>Tarjeta de crédito</td>\n",
              "      <td>8</td>\n",
              "      <td>4.60971</td>\n",
              "      <td>-74.08175</td>\n",
              "    </tr>\n",
              "    <tr>\n",
              "      <th>1</th>\n",
              "      <td>Mesa de comedor</td>\n",
              "      <td>Muebles</td>\n",
              "      <td>192300.0</td>\n",
              "      <td>8400.0</td>\n",
              "      <td>18/05/2022</td>\n",
              "      <td>Beatriz Morales</td>\n",
              "      <td>Medellín</td>\n",
              "      <td>1</td>\n",
              "      <td>Tarjeta de crédito</td>\n",
              "      <td>4</td>\n",
              "      <td>6.25184</td>\n",
              "      <td>-75.56359</td>\n",
              "    </tr>\n",
              "    <tr>\n",
              "      <th>2</th>\n",
              "      <td>Juego de mesa</td>\n",
              "      <td>Juguetes</td>\n",
              "      <td>209600.0</td>\n",
              "      <td>15900.0</td>\n",
              "      <td>15/03/2021</td>\n",
              "      <td>Juan Fernandez</td>\n",
              "      <td>Cartagena</td>\n",
              "      <td>1</td>\n",
              "      <td>Tarjeta de crédito</td>\n",
              "      <td>1</td>\n",
              "      <td>10.39972</td>\n",
              "      <td>-75.51444</td>\n",
              "    </tr>\n",
              "    <tr>\n",
              "      <th>3</th>\n",
              "      <td>Microondas</td>\n",
              "      <td>Electrodomésticos</td>\n",
              "      <td>757500.0</td>\n",
              "      <td>41000.0</td>\n",
              "      <td>03/05/2022</td>\n",
              "      <td>Juan Fernandez</td>\n",
              "      <td>Cali</td>\n",
              "      <td>4</td>\n",
              "      <td>Nequi</td>\n",
              "      <td>1</td>\n",
              "      <td>3.43722</td>\n",
              "      <td>-76.52250</td>\n",
              "    </tr>\n",
              "    <tr>\n",
              "      <th>4</th>\n",
              "      <td>Silla de oficina</td>\n",
              "      <td>Muebles</td>\n",
              "      <td>335200.0</td>\n",
              "      <td>20200.0</td>\n",
              "      <td>07/11/2020</td>\n",
              "      <td>Maria Alfonso</td>\n",
              "      <td>Medellín</td>\n",
              "      <td>5</td>\n",
              "      <td>Nequi</td>\n",
              "      <td>1</td>\n",
              "      <td>6.25184</td>\n",
              "      <td>-75.56359</td>\n",
              "    </tr>\n",
              "  </tbody>\n",
              "</table>\n",
              "</div>\n",
              "    <div class=\"colab-df-buttons\">\n",
              "\n",
              "  <div class=\"colab-df-container\">\n",
              "    <button class=\"colab-df-convert\" onclick=\"convertToInteractive('df-254d4180-81f9-4134-9b17-8a675f43adc6')\"\n",
              "            title=\"Convert this dataframe to an interactive table.\"\n",
              "            style=\"display:none;\">\n",
              "\n",
              "  <svg xmlns=\"http://www.w3.org/2000/svg\" height=\"24px\" viewBox=\"0 -960 960 960\">\n",
              "    <path d=\"M120-120v-720h720v720H120Zm60-500h600v-160H180v160Zm220 220h160v-160H400v160Zm0 220h160v-160H400v160ZM180-400h160v-160H180v160Zm440 0h160v-160H620v160ZM180-180h160v-160H180v160Zm440 0h160v-160H620v160Z\"/>\n",
              "  </svg>\n",
              "    </button>\n",
              "\n",
              "  <style>\n",
              "    .colab-df-container {\n",
              "      display:flex;\n",
              "      gap: 12px;\n",
              "    }\n",
              "\n",
              "    .colab-df-convert {\n",
              "      background-color: #E8F0FE;\n",
              "      border: none;\n",
              "      border-radius: 50%;\n",
              "      cursor: pointer;\n",
              "      display: none;\n",
              "      fill: #1967D2;\n",
              "      height: 32px;\n",
              "      padding: 0 0 0 0;\n",
              "      width: 32px;\n",
              "    }\n",
              "\n",
              "    .colab-df-convert:hover {\n",
              "      background-color: #E2EBFA;\n",
              "      box-shadow: 0px 1px 2px rgba(60, 64, 67, 0.3), 0px 1px 3px 1px rgba(60, 64, 67, 0.15);\n",
              "      fill: #174EA6;\n",
              "    }\n",
              "\n",
              "    .colab-df-buttons div {\n",
              "      margin-bottom: 4px;\n",
              "    }\n",
              "\n",
              "    [theme=dark] .colab-df-convert {\n",
              "      background-color: #3B4455;\n",
              "      fill: #D2E3FC;\n",
              "    }\n",
              "\n",
              "    [theme=dark] .colab-df-convert:hover {\n",
              "      background-color: #434B5C;\n",
              "      box-shadow: 0px 1px 3px 1px rgba(0, 0, 0, 0.15);\n",
              "      filter: drop-shadow(0px 1px 2px rgba(0, 0, 0, 0.3));\n",
              "      fill: #FFFFFF;\n",
              "    }\n",
              "  </style>\n",
              "\n",
              "    <script>\n",
              "      const buttonEl =\n",
              "        document.querySelector('#df-254d4180-81f9-4134-9b17-8a675f43adc6 button.colab-df-convert');\n",
              "      buttonEl.style.display =\n",
              "        google.colab.kernel.accessAllowed ? 'block' : 'none';\n",
              "\n",
              "      async function convertToInteractive(key) {\n",
              "        const element = document.querySelector('#df-254d4180-81f9-4134-9b17-8a675f43adc6');\n",
              "        const dataTable =\n",
              "          await google.colab.kernel.invokeFunction('convertToInteractive',\n",
              "                                                    [key], {});\n",
              "        if (!dataTable) return;\n",
              "\n",
              "        const docLinkHtml = 'Like what you see? Visit the ' +\n",
              "          '<a target=\"_blank\" href=https://colab.research.google.com/notebooks/data_table.ipynb>data table notebook</a>'\n",
              "          + ' to learn more about interactive tables.';\n",
              "        element.innerHTML = '';\n",
              "        dataTable['output_type'] = 'display_data';\n",
              "        await google.colab.output.renderOutput(dataTable, element);\n",
              "        const docLink = document.createElement('div');\n",
              "        docLink.innerHTML = docLinkHtml;\n",
              "        element.appendChild(docLink);\n",
              "      }\n",
              "    </script>\n",
              "  </div>\n",
              "\n",
              "\n",
              "<div id=\"df-436fffd6-f8e4-4874-8be6-6d1d1bf92309\">\n",
              "  <button class=\"colab-df-quickchart\" onclick=\"quickchart('df-436fffd6-f8e4-4874-8be6-6d1d1bf92309')\"\n",
              "            title=\"Suggest charts\"\n",
              "            style=\"display:none;\">\n",
              "\n",
              "<svg xmlns=\"http://www.w3.org/2000/svg\" height=\"24px\"viewBox=\"0 0 24 24\"\n",
              "     width=\"24px\">\n",
              "    <g>\n",
              "        <path d=\"M19 3H5c-1.1 0-2 .9-2 2v14c0 1.1.9 2 2 2h14c1.1 0 2-.9 2-2V5c0-1.1-.9-2-2-2zM9 17H7v-7h2v7zm4 0h-2V7h2v10zm4 0h-2v-4h2v4z\"/>\n",
              "    </g>\n",
              "</svg>\n",
              "  </button>\n",
              "\n",
              "<style>\n",
              "  .colab-df-quickchart {\n",
              "      --bg-color: #E8F0FE;\n",
              "      --fill-color: #1967D2;\n",
              "      --hover-bg-color: #E2EBFA;\n",
              "      --hover-fill-color: #174EA6;\n",
              "      --disabled-fill-color: #AAA;\n",
              "      --disabled-bg-color: #DDD;\n",
              "  }\n",
              "\n",
              "  [theme=dark] .colab-df-quickchart {\n",
              "      --bg-color: #3B4455;\n",
              "      --fill-color: #D2E3FC;\n",
              "      --hover-bg-color: #434B5C;\n",
              "      --hover-fill-color: #FFFFFF;\n",
              "      --disabled-bg-color: #3B4455;\n",
              "      --disabled-fill-color: #666;\n",
              "  }\n",
              "\n",
              "  .colab-df-quickchart {\n",
              "    background-color: var(--bg-color);\n",
              "    border: none;\n",
              "    border-radius: 50%;\n",
              "    cursor: pointer;\n",
              "    display: none;\n",
              "    fill: var(--fill-color);\n",
              "    height: 32px;\n",
              "    padding: 0;\n",
              "    width: 32px;\n",
              "  }\n",
              "\n",
              "  .colab-df-quickchart:hover {\n",
              "    background-color: var(--hover-bg-color);\n",
              "    box-shadow: 0 1px 2px rgba(60, 64, 67, 0.3), 0 1px 3px 1px rgba(60, 64, 67, 0.15);\n",
              "    fill: var(--button-hover-fill-color);\n",
              "  }\n",
              "\n",
              "  .colab-df-quickchart-complete:disabled,\n",
              "  .colab-df-quickchart-complete:disabled:hover {\n",
              "    background-color: var(--disabled-bg-color);\n",
              "    fill: var(--disabled-fill-color);\n",
              "    box-shadow: none;\n",
              "  }\n",
              "\n",
              "  .colab-df-spinner {\n",
              "    border: 2px solid var(--fill-color);\n",
              "    border-color: transparent;\n",
              "    border-bottom-color: var(--fill-color);\n",
              "    animation:\n",
              "      spin 1s steps(1) infinite;\n",
              "  }\n",
              "\n",
              "  @keyframes spin {\n",
              "    0% {\n",
              "      border-color: transparent;\n",
              "      border-bottom-color: var(--fill-color);\n",
              "      border-left-color: var(--fill-color);\n",
              "    }\n",
              "    20% {\n",
              "      border-color: transparent;\n",
              "      border-left-color: var(--fill-color);\n",
              "      border-top-color: var(--fill-color);\n",
              "    }\n",
              "    30% {\n",
              "      border-color: transparent;\n",
              "      border-left-color: var(--fill-color);\n",
              "      border-top-color: var(--fill-color);\n",
              "      border-right-color: var(--fill-color);\n",
              "    }\n",
              "    40% {\n",
              "      border-color: transparent;\n",
              "      border-right-color: var(--fill-color);\n",
              "      border-top-color: var(--fill-color);\n",
              "    }\n",
              "    60% {\n",
              "      border-color: transparent;\n",
              "      border-right-color: var(--fill-color);\n",
              "    }\n",
              "    80% {\n",
              "      border-color: transparent;\n",
              "      border-right-color: var(--fill-color);\n",
              "      border-bottom-color: var(--fill-color);\n",
              "    }\n",
              "    90% {\n",
              "      border-color: transparent;\n",
              "      border-bottom-color: var(--fill-color);\n",
              "    }\n",
              "  }\n",
              "</style>\n",
              "\n",
              "  <script>\n",
              "    async function quickchart(key) {\n",
              "      const quickchartButtonEl =\n",
              "        document.querySelector('#' + key + ' button');\n",
              "      quickchartButtonEl.disabled = true;  // To prevent multiple clicks.\n",
              "      quickchartButtonEl.classList.add('colab-df-spinner');\n",
              "      try {\n",
              "        const charts = await google.colab.kernel.invokeFunction(\n",
              "            'suggestCharts', [key], {});\n",
              "      } catch (error) {\n",
              "        console.error('Error during call to suggestCharts:', error);\n",
              "      }\n",
              "      quickchartButtonEl.classList.remove('colab-df-spinner');\n",
              "      quickchartButtonEl.classList.add('colab-df-quickchart-complete');\n",
              "    }\n",
              "    (() => {\n",
              "      let quickchartButtonEl =\n",
              "        document.querySelector('#df-436fffd6-f8e4-4874-8be6-6d1d1bf92309 button');\n",
              "      quickchartButtonEl.style.display =\n",
              "        google.colab.kernel.accessAllowed ? 'block' : 'none';\n",
              "    })();\n",
              "  </script>\n",
              "</div>\n",
              "\n",
              "    </div>\n",
              "  </div>\n"
            ],
            "application/vnd.google.colaboratory.intrinsic+json": {
              "type": "dataframe",
              "variable_name": "tienda1",
              "summary": "{\n  \"name\": \"tienda1\",\n  \"rows\": 2359,\n  \"fields\": [\n    {\n      \"column\": \"Producto\",\n      \"properties\": {\n        \"dtype\": \"category\",\n        \"num_unique_values\": 51,\n        \"samples\": [\n          \"Guitarra ac\\u00fastica\",\n          \"Bal\\u00f3n de baloncesto\",\n          \"Smartwatch\"\n        ],\n        \"semantic_type\": \"\",\n        \"description\": \"\"\n      }\n    },\n    {\n      \"column\": \"Categor\\u00eda del Producto\",\n      \"properties\": {\n        \"dtype\": \"category\",\n        \"num_unique_values\": 8,\n        \"samples\": [\n          \"Muebles\",\n          \"Deportes y diversi\\u00f3n\",\n          \"Electr\\u00f3nicos\"\n        ],\n        \"semantic_type\": \"\",\n        \"description\": \"\"\n      }\n    },\n    {\n      \"column\": \"Precio\",\n      \"properties\": {\n        \"dtype\": \"number\",\n        \"std\": 614686.7653873172,\n        \"min\": 7600.0,\n        \"max\": 2977000.0,\n        \"num_unique_values\": 1937,\n        \"samples\": [\n          2499400.0,\n          14800.0,\n          80500.0\n        ],\n        \"semantic_type\": \"\",\n        \"description\": \"\"\n      }\n    },\n    {\n      \"column\": \"Costo de env\\u00edo\",\n      \"properties\": {\n        \"dtype\": \"number\",\n        \"std\": 32860.0017825605,\n        \"min\": 0.0,\n        \"max\": 160800.0,\n        \"num_unique_values\": 753,\n        \"samples\": [\n          117800.0,\n          54700.0,\n          45600.0\n        ],\n        \"semantic_type\": \"\",\n        \"description\": \"\"\n      }\n    },\n    {\n      \"column\": \"Fecha de Compra\",\n      \"properties\": {\n        \"dtype\": \"object\",\n        \"num_unique_values\": 1018,\n        \"samples\": [\n          \"15/09/2022\",\n          \"03/06/2020\",\n          \"06/11/2021\"\n        ],\n        \"semantic_type\": \"\",\n        \"description\": \"\"\n      }\n    },\n    {\n      \"column\": \"Vendedor\",\n      \"properties\": {\n        \"dtype\": \"category\",\n        \"num_unique_values\": 14,\n        \"samples\": [\n          \"Juliana Costa\",\n          \"Mariana Herrera\",\n          \"Pedro Gomez\"\n        ],\n        \"semantic_type\": \"\",\n        \"description\": \"\"\n      }\n    },\n    {\n      \"column\": \"Lugar de Compra\",\n      \"properties\": {\n        \"dtype\": \"category\",\n        \"num_unique_values\": 19,\n        \"samples\": [\n          \"Bogot\\u00e1\",\n          \"Pereira\",\n          \"Neiva\"\n        ],\n        \"semantic_type\": \"\",\n        \"description\": \"\"\n      }\n    },\n    {\n      \"column\": \"Calificaci\\u00f3n\",\n      \"properties\": {\n        \"dtype\": \"number\",\n        \"std\": 1,\n        \"min\": 1,\n        \"max\": 5,\n        \"num_unique_values\": 5,\n        \"samples\": [\n          1,\n          2,\n          5\n        ],\n        \"semantic_type\": \"\",\n        \"description\": \"\"\n      }\n    },\n    {\n      \"column\": \"M\\u00e9todo de pago\",\n      \"properties\": {\n        \"dtype\": \"category\",\n        \"num_unique_values\": 4,\n        \"samples\": [\n          \"Nequi\",\n          \"Tarjeta de d\\u00e9bito\",\n          \"Tarjeta de cr\\u00e9dito\"\n        ],\n        \"semantic_type\": \"\",\n        \"description\": \"\"\n      }\n    },\n    {\n      \"column\": \"Cantidad de cuotas\",\n      \"properties\": {\n        \"dtype\": \"number\",\n        \"std\": 2,\n        \"min\": 1,\n        \"max\": 24,\n        \"num_unique_values\": 15,\n        \"samples\": [\n          7,\n          14,\n          8\n        ],\n        \"semantic_type\": \"\",\n        \"description\": \"\"\n      }\n    },\n    {\n      \"column\": \"lat\",\n      \"properties\": {\n        \"dtype\": \"number\",\n        \"std\": 2.2874452492678627,\n        \"min\": -4.21528,\n        \"max\": 11.54444,\n        \"num_unique_values\": 19,\n        \"samples\": [\n          4.60971,\n          4.81333,\n          2.9273\n        ],\n        \"semantic_type\": \"\",\n        \"description\": \"\"\n      }\n    },\n    {\n      \"column\": \"lon\",\n      \"properties\": {\n        \"dtype\": \"number\",\n        \"std\": 1.2178272727088486,\n        \"min\": -77.28111,\n        \"max\": -67.9239,\n        \"num_unique_values\": 19,\n        \"samples\": [\n          -74.08175,\n          -75.69611,\n          -75.28189\n        ],\n        \"semantic_type\": \"\",\n        \"description\": \"\"\n      }\n    }\n  ]\n}"
            }
          },
          "metadata": {},
          "execution_count": 1
        }
      ],
      "source": [
        "import pandas as pd\n",
        "import matplotlib.pyplot as plt\n",
        "import numpy as np\n",
        "\n",
        "url = \"https://raw.githubusercontent.com/alura-es-cursos/challenge1-data-science-latam/refs/heads/main/base-de-datos-challenge1-latam/tienda_1%20.csv\"\n",
        "url2 = \"https://raw.githubusercontent.com/alura-es-cursos/challenge1-data-science-latam/refs/heads/main/base-de-datos-challenge1-latam/tienda_2.csv\"\n",
        "url3 = \"https://raw.githubusercontent.com/alura-es-cursos/challenge1-data-science-latam/refs/heads/main/base-de-datos-challenge1-latam/tienda_3.csv\"\n",
        "url4 = \"https://raw.githubusercontent.com/alura-es-cursos/challenge1-data-science-latam/refs/heads/main/base-de-datos-challenge1-latam/tienda_4.csv\"\n",
        "\n",
        "tienda1 = pd.read_csv(url)\n",
        "tienda2 = pd.read_csv(url2)\n",
        "tienda3 = pd.read_csv(url3)\n",
        "tienda4 = pd.read_csv(url4)\n",
        "\n",
        "tienda1.head()"
      ]
    },
    {
      "cell_type": "markdown",
      "source": [
        "#1. Análisis de facturación\n",
        "\n"
      ],
      "metadata": {
        "id": "X62IW3KFUIYm"
      }
    },
    {
      "cell_type": "code",
      "source": [
        "ingreso_tienda1 = tienda1['Precio'].sum()\n",
        "ingreso_tienda2 = tienda2['Precio'].sum()\n",
        "ingreso_tienda3 = tienda3['Precio'].sum()\n",
        "ingreso_tienda4 = tienda4['Precio'].sum()"
      ],
      "metadata": {
        "id": "xykobSftV64I"
      },
      "execution_count": null,
      "outputs": []
    },
    {
      "cell_type": "code",
      "source": [
        "print(f\"El ingreso de la tienda 1 fue de {ingreso_tienda1}\")\n",
        "print(f\"El ingreso de la tienda 2 fue de {ingreso_tienda2}\")\n",
        "print(f\"El ingreso de la tienda 3 fue de {ingreso_tienda3}\")\n",
        "print(f\"El ingreso de la tienda 4 fue de {ingreso_tienda4}\")"
      ],
      "metadata": {
        "id": "KDyr8E71V3m-",
        "colab": {
          "base_uri": "https://localhost:8080/"
        },
        "outputId": "6f0612c5-6a5d-4808-d4cd-379e66c604d7"
      },
      "execution_count": null,
      "outputs": [
        {
          "output_type": "stream",
          "name": "stdout",
          "text": [
            "El ingreso de la tienda 1 fue de 1150880400.0\n",
            "El ingreso de la tienda 2 fue de 1116343500.0\n",
            "El ingreso de la tienda 3 fue de 1098019600.0\n",
            "El ingreso de la tienda 4 fue de 1038375700.0\n"
          ]
        }
      ]
    },
    {
      "cell_type": "markdown",
      "source": [
        "# 2. Ventas por categoría"
      ],
      "metadata": {
        "id": "2V_vcAPzWZmR"
      }
    },
    {
      "cell_type": "code",
      "source": [
        "ingresos_por_categoria_tienda1 = tienda1.groupby('Categoría del Producto')['Precio'].sum()\n",
        "ingresos_por_categoria_tienda2 = tienda2.groupby('Categoría del Producto')['Precio'].sum()\n",
        "ingresos_por_categoria_tienda3 = tienda3.groupby('Categoría del Producto')['Precio'].sum()\n",
        "ingresos_por_categoria_tienda4 = tienda4.groupby('Categoría del Producto')['Precio'].sum()"
      ],
      "metadata": {
        "id": "A34YupIuYhfF"
      },
      "execution_count": null,
      "outputs": []
    },
    {
      "cell_type": "code",
      "source": [
        "ingresos_por_categoria_df = pd.DataFrame({\n",
        "    'Tienda 1': ingresos_por_categoria_tienda1,\n",
        "    'Tienda 2': ingresos_por_categoria_tienda2,\n",
        "    'Tienda 3': ingresos_por_categoria_tienda3,\n",
        "    'Tienda 4': ingresos_por_categoria_tienda4\n",
        "}).fillna(0)\n",
        "\n",
        "print('Categoría por Tienda\\n', ingresos_por_categoria_df)"
      ],
      "metadata": {
        "id": "yZR6cOjXYSk1",
        "colab": {
          "base_uri": "https://localhost:8080/"
        },
        "outputId": "f126be79-8394-4fe7-e4f2-0931374142c3"
      },
      "execution_count": null,
      "outputs": [
        {
          "output_type": "stream",
          "name": "stdout",
          "text": [
            "Categoría por Tienda\n",
            "                             Tienda 1     Tienda 2     Tienda 3     Tienda 4\n",
            "Categoría del Producto                                                     \n",
            "Artículos para el hogar   12698400.0   14746900.0   15060000.0   15074500.0\n",
            "Deportes y diversión      39290000.0   34744500.0   35593100.0   33350100.0\n",
            "Electrodomésticos        363685200.0  348567800.0  329237900.0  283260200.0\n",
            "Electrónicos             429493500.0  410831100.0  410775800.0  409476100.0\n",
            "Instrumentos musicales    91299000.0  104990300.0   77380900.0   75102400.0\n",
            "Juguetes                  17995700.0   15945400.0   19401100.0   20262200.0\n",
            "Libros                     8784900.0   10091200.0    9498700.0    9321300.0\n",
            "Muebles                  187633700.0  176426300.0  201072100.0  192528900.0\n"
          ]
        }
      ]
    },
    {
      "cell_type": "code",
      "source": [
        "categorias_tienda1 = ingresos_por_categoria_tienda1.sort_values(ascending= False)\n",
        "categorias_tienda2 = ingresos_por_categoria_tienda2.sort_values(ascending= False)\n",
        "categorias_tienda3 = ingresos_por_categoria_tienda3.sort_values(ascending= False)\n",
        "categorias_tienda4 = ingresos_por_categoria_tienda4.sort_values(ascending= False)"
      ],
      "metadata": {
        "id": "ZX9u6VhHwVRn"
      },
      "execution_count": null,
      "outputs": []
    },
    {
      "cell_type": "code",
      "source": [
        "categorias_tienda1_df = pd.DataFrame({'Categoria': categorias_tienda1.index, 'Ingresos': categorias_tienda1.values})\n",
        "categorias_tienda2_df = pd.DataFrame({'Categoria': categorias_tienda2.index, 'Ingresos': categorias_tienda2.values})\n",
        "categorias_tienda3_df = pd.DataFrame({'Categoria': categorias_tienda3.index, 'Ingresos': categorias_tienda3.values})\n",
        "categorias_tienda4_df = pd.DataFrame({'Categoria': categorias_tienda4.index, 'Ingresos': categorias_tienda4.values})"
      ],
      "metadata": {
        "id": "F2iydE3-wX1r"
      },
      "execution_count": null,
      "outputs": []
    },
    {
      "cell_type": "code",
      "source": [
        "print('Categoría más vendida a la menos vendida en la tienda 1')\n",
        "print(categorias_tienda1_df)\n",
        "print('\\n')\n",
        "print('Categoría más vendida a la menos vendida en la tienda 2')\n",
        "print(categorias_tienda2_df)\n",
        "print('\\n')\n",
        "print('Categoría más vendida a la menos vendida en la tienda 3')\n",
        "print(categorias_tienda3_df)\n",
        "print('\\n')\n",
        "print('Categoría más vendida a la menos vendida en la tienda 4')\n",
        "print(categorias_tienda4_df)"
      ],
      "metadata": {
        "colab": {
          "base_uri": "https://localhost:8080/"
        },
        "id": "Yn9MgWOrwaJX",
        "outputId": "a8414a2f-4643-4c4b-ebbb-d11e58654dc4"
      },
      "execution_count": null,
      "outputs": [
        {
          "output_type": "stream",
          "name": "stdout",
          "text": [
            "Categoría más vendida a la menos vendida en la tienda 1\n",
            "                 Categoria     Ingresos\n",
            "0             Electrónicos  429493500.0\n",
            "1        Electrodomésticos  363685200.0\n",
            "2                  Muebles  187633700.0\n",
            "3   Instrumentos musicales   91299000.0\n",
            "4     Deportes y diversión   39290000.0\n",
            "5                 Juguetes   17995700.0\n",
            "6  Artículos para el hogar   12698400.0\n",
            "7                   Libros    8784900.0\n",
            "\n",
            "\n",
            "Categoría más vendida a la menos vendida en la tienda 2\n",
            "                 Categoria     Ingresos\n",
            "0             Electrónicos  410831100.0\n",
            "1        Electrodomésticos  348567800.0\n",
            "2                  Muebles  176426300.0\n",
            "3   Instrumentos musicales  104990300.0\n",
            "4     Deportes y diversión   34744500.0\n",
            "5                 Juguetes   15945400.0\n",
            "6  Artículos para el hogar   14746900.0\n",
            "7                   Libros   10091200.0\n",
            "\n",
            "\n",
            "Categoría más vendida a la menos vendida en la tienda 3\n",
            "                 Categoria     Ingresos\n",
            "0             Electrónicos  410775800.0\n",
            "1        Electrodomésticos  329237900.0\n",
            "2                  Muebles  201072100.0\n",
            "3   Instrumentos musicales   77380900.0\n",
            "4     Deportes y diversión   35593100.0\n",
            "5                 Juguetes   19401100.0\n",
            "6  Artículos para el hogar   15060000.0\n",
            "7                   Libros    9498700.0\n",
            "\n",
            "\n",
            "Categoría más vendida a la menos vendida en la tienda 4\n",
            "                 Categoria     Ingresos\n",
            "0             Electrónicos  409476100.0\n",
            "1        Electrodomésticos  283260200.0\n",
            "2                  Muebles  192528900.0\n",
            "3   Instrumentos musicales   75102400.0\n",
            "4     Deportes y diversión   33350100.0\n",
            "5                 Juguetes   20262200.0\n",
            "6  Artículos para el hogar   15074500.0\n",
            "7                   Libros    9321300.0\n"
          ]
        }
      ]
    },
    {
      "cell_type": "markdown",
      "source": [
        "# 3. Calificación promedio de la tienda\n"
      ],
      "metadata": {
        "id": "Rq6tU_xSY3jk"
      }
    },
    {
      "cell_type": "code",
      "source": [
        "calificacion_promedio_tienda1 = tienda1['Calificación'].mean()\n",
        "calificacion_promedio_tienda2 = tienda2['Calificación'].mean()\n",
        "calificacion_promedio_tienda3 = tienda3['Calificación'].mean()\n",
        "calificacion_promedio_tienda4 = tienda4['Calificación'].mean()"
      ],
      "metadata": {
        "id": "bh3jjjJwY5MU"
      },
      "execution_count": null,
      "outputs": []
    },
    {
      "cell_type": "code",
      "source": [
        "resenia_por_calificacion_tienda_df = pd.DataFrame({\n",
        "    'Tienda': ['Tienda 1', 'Tienda 2', 'Tienda 3', 'Tienda 4'],\n",
        "    'Calificacion': [\n",
        "        calificacion_promedio_tienda1,\n",
        "        calificacion_promedio_tienda2,\n",
        "        calificacion_promedio_tienda3,\n",
        "        calificacion_promedio_tienda4]\n",
        "}).round(2)"
      ],
      "metadata": {
        "id": "I0KkjPoTY88F"
      },
      "execution_count": null,
      "outputs": []
    },
    {
      "cell_type": "code",
      "source": [
        "print('Calificación Promedio de cada tienda')\n",
        "print(resenia_por_calificacion_tienda_df.sort_values('Calificacion', ascending= False))"
      ],
      "metadata": {
        "colab": {
          "base_uri": "https://localhost:8080/"
        },
        "id": "quH3J3LLjgeu",
        "outputId": "7239dd8d-827b-4303-f00c-b605bda4bf6f"
      },
      "execution_count": null,
      "outputs": [
        {
          "output_type": "stream",
          "name": "stdout",
          "text": [
            "Calificación Promedio de cada tienda\n",
            "     Tienda  Calificacion\n",
            "2  Tienda 3          4.05\n",
            "1  Tienda 2          4.04\n",
            "3  Tienda 4          4.00\n",
            "0  Tienda 1          3.98\n"
          ]
        }
      ]
    },
    {
      "cell_type": "markdown",
      "source": [
        "# 4. Productos más y menos vendidos"
      ],
      "metadata": {
        "id": "DmNp1KPBZCm-"
      }
    },
    {
      "cell_type": "code",
      "source": [
        "ingreso_por_producto_tienda1 = tienda1.groupby('Producto')['Precio'].sum()\n",
        "ingreso_por_producto_tienda2 = tienda2.groupby('Producto')['Precio'].sum()\n",
        "ingreso_por_producto_tienda3 = tienda3.groupby('Producto')['Precio'].sum()\n",
        "ingreso_por_producto_tienda4 = tienda4.groupby('Producto')['Precio'].sum()"
      ],
      "metadata": {
        "id": "qoyjqijQZHfF"
      },
      "execution_count": null,
      "outputs": []
    },
    {
      "cell_type": "code",
      "source": [
        "top_productos_tienda1 = ingreso_por_producto_tienda1.sort_values(ascending= False)\n",
        "top_productos_tienda2 = ingreso_por_producto_tienda2.sort_values(ascending= False)\n",
        "top_productos_tienda3 = ingreso_por_producto_tienda3.sort_values(ascending= False)\n",
        "top_productos_tienda4 = ingreso_por_producto_tienda4.sort_values(ascending= False)"
      ],
      "metadata": {
        "id": "0Sw3sd4IZIGW"
      },
      "execution_count": null,
      "outputs": []
    },
    {
      "cell_type": "code",
      "source": [
        "top_productos_tienda1_df = pd.DataFrame({'Producto': top_productos_tienda1.index, 'Ingresos': top_productos_tienda1.values})\n",
        "top_productos_tienda2_df = pd.DataFrame({'Producto': top_productos_tienda2.index, 'Ingresos': top_productos_tienda1.values})\n",
        "top_productos_tienda3_df = pd.DataFrame({'Producto': top_productos_tienda3.index, 'Ingresos': top_productos_tienda1.values})\n",
        "top_productos_tienda4_df = pd.DataFrame({'Producto': top_productos_tienda4.index, 'Ingresos': top_productos_tienda1.values})"
      ],
      "metadata": {
        "id": "lUSgCGbztqMZ"
      },
      "execution_count": null,
      "outputs": []
    },
    {
      "cell_type": "code",
      "source": [
        "print('Productos más vendidos a los menos vendidos en la tienda 1')\n",
        "print(top_productos_tienda1_df)\n",
        "print('\\n')\n",
        "print('Productos más vendidos a los menos vendidos en la tienda 2')\n",
        "print(top_productos_tienda2_df)\n",
        "print('\\n')\n",
        "print('Productos más vendido a los menos vendidos en la tienda 3')\n",
        "print(top_productos_tienda3_df)\n",
        "print('\\n')\n",
        "print('Productos más vendidos a los menos vendidos en la tienda 4')\n",
        "print(top_productos_tienda4_df)"
      ],
      "metadata": {
        "colab": {
          "base_uri": "https://localhost:8080/"
        },
        "id": "bCaAeQ78k4Uf",
        "outputId": "f5bdd182-b869-4cd7-cb71-165ae6d2d7a3"
      },
      "execution_count": null,
      "outputs": [
        {
          "output_type": "stream",
          "name": "stdout",
          "text": [
            "Productos más vendidos a los menos vendidos en la tienda 1\n",
            "                       Producto     Ingresos\n",
            "0                 TV LED UHD 4K  142150200.0\n",
            "1                  Refrigerador  112143300.0\n",
            "2                     Iphone 15   97902200.0\n",
            "3                      Smart TV   67452100.0\n",
            "4              Lavadora de ropa   65783600.0\n",
            "5                  Lavavajillas   62054900.0\n",
            "6              Secadora de ropa   59062400.0\n",
            "7                   Tablet ABXY   47639800.0\n",
            "8                       Batería   37693900.0\n",
            "9            Guitarra eléctrica   37292200.0\n",
            "10                   Microondas   34761500.0\n",
            "11                 Celular ABXY   32651000.0\n",
            "12              Sofá reclinable   31379400.0\n",
            "13                    Cama king   31176600.0\n",
            "14                       Estufa   29879500.0\n",
            "15                      Armario   29462300.0\n",
            "16                    Bicicleta   27444600.0\n",
            "17                     Cama box   22094700.0\n",
            "18             Silla de oficina   17667300.0\n",
            "19                    Impresora   16413300.0\n",
            "20                Mesa de noche   15679600.0\n",
            "21            Guitarra acústica   14074000.0\n",
            "22                Kit de bancas   12141200.0\n",
            "23              Mesa de comedor   10531500.0\n",
            "24                       Sillón    9879200.0\n",
            "25            Asistente virtual    8058000.0\n",
            "26               Mesa de centro    7621900.0\n",
            "27                Juego de mesa    7614500.0\n",
            "28                   Smartwatch    7452400.0\n",
            "29                 Set de ollas    6307700.0\n",
            "30                  Auriculares    5043700.0\n",
            "31    Auriculares con micrófono    4730800.0\n",
            "32                      Mochila    3867200.0\n",
            "33    Carrito de control remoto    3761800.0\n",
            "34          Modelado predictivo    3172500.0\n",
            "35          Balón de baloncesto    2749800.0\n",
            "36              Olla de presión    2629300.0\n",
            "37                 Vaso térmico    2463400.0\n",
            "38                   Cubertería    2402300.0\n",
            "39                    Pandereta    2238900.0\n",
            "40            Balón de voleibol    2112200.0\n",
            "41    Iniciando en programación    2093100.0\n",
            "42  Ciencia de datos con Python    2063600.0\n",
            "43                  Muñeca bebé    1937300.0\n",
            "44      Bloques de construcción    1865700.0\n",
            "45      Dashboards con Power BI    1455700.0\n",
            "46            Ajedrez de madera    1430600.0\n",
            "47                 Set de vasos    1359100.0\n",
            "48              Cubo mágico 8x8     696900.0\n",
            "49               Dinosaurio Rex     688900.0\n",
            "50           Cuerda para saltar     652800.0\n",
            "\n",
            "\n",
            "Productos más vendidos a los menos vendidos en la tienda 2\n",
            "                       Producto     Ingresos\n",
            "0                     Iphone 15  142150200.0\n",
            "1                 TV LED UHD 4K  112143300.0\n",
            "2                  Refrigerador   97902200.0\n",
            "3              Lavadora de ropa   67452100.0\n",
            "4                      Smart TV   65783600.0\n",
            "5              Secadora de ropa   62054900.0\n",
            "6                  Lavavajillas   59062400.0\n",
            "7                   Tablet ABXY   47639800.0\n",
            "8                       Batería   37693900.0\n",
            "9                  Celular ABXY   37292200.0\n",
            "10           Guitarra eléctrica   34761500.0\n",
            "11                   Microondas   32651000.0\n",
            "12                       Estufa   31379400.0\n",
            "13              Sofá reclinable   31176600.0\n",
            "14                    Cama king   29879500.0\n",
            "15                      Armario   29462300.0\n",
            "16                     Cama box   27444600.0\n",
            "17                    Bicicleta   22094700.0\n",
            "18            Guitarra acústica   17667300.0\n",
            "19             Silla de oficina   16413300.0\n",
            "20                Kit de bancas   15679600.0\n",
            "21                Mesa de noche   14074000.0\n",
            "22                    Impresora   12141200.0\n",
            "23              Mesa de comedor   10531500.0\n",
            "24                       Sillón    9879200.0\n",
            "25                 Set de ollas    8058000.0\n",
            "26            Asistente virtual    7621900.0\n",
            "27               Mesa de centro    7614500.0\n",
            "28                   Smartwatch    7452400.0\n",
            "29                Juego de mesa    6307700.0\n",
            "30    Auriculares con micrófono    5043700.0\n",
            "31                      Mochila    4730800.0\n",
            "32                    Pandereta    3867200.0\n",
            "33                  Auriculares    3761800.0\n",
            "34              Olla de presión    3172500.0\n",
            "35    Carrito de control remoto    2749800.0\n",
            "36    Iniciando en programación    2629300.0\n",
            "37          Modelado predictivo    2463400.0\n",
            "38  Ciencia de datos con Python    2402300.0\n",
            "39                  Muñeca bebé    2238900.0\n",
            "40            Balón de voleibol    2112200.0\n",
            "41                 Vaso térmico    2093100.0\n",
            "42          Balón de baloncesto    2063600.0\n",
            "43      Bloques de construcción    1937300.0\n",
            "44                   Cubertería    1865700.0\n",
            "45      Dashboards con Power BI    1455700.0\n",
            "46                 Set de vasos    1430600.0\n",
            "47            Ajedrez de madera    1359100.0\n",
            "48           Cuerda para saltar     696900.0\n",
            "49               Dinosaurio Rex     688900.0\n",
            "50              Cubo mágico 8x8     652800.0\n",
            "\n",
            "\n",
            "Productos más vendido a los menos vendidos en la tienda 3\n",
            "                       Producto     Ingresos\n",
            "0                  Refrigerador  142150200.0\n",
            "1                 TV LED UHD 4K  112143300.0\n",
            "2                     Iphone 15   97902200.0\n",
            "3                      Smart TV   67452100.0\n",
            "4                  Lavavajillas   65783600.0\n",
            "5                   Tablet ABXY   62054900.0\n",
            "6              Lavadora de ropa   59062400.0\n",
            "7              Secadora de ropa   47639800.0\n",
            "8                  Celular ABXY   37693900.0\n",
            "9                     Cama king   37292200.0\n",
            "10                       Estufa   34761500.0\n",
            "11              Sofá reclinable   32651000.0\n",
            "12           Guitarra eléctrica   31379400.0\n",
            "13                      Batería   31176600.0\n",
            "14                     Cama box   29879500.0\n",
            "15                    Bicicleta   29462300.0\n",
            "16                      Armario   27444600.0\n",
            "17                   Microondas   22094700.0\n",
            "18             Silla de oficina   17667300.0\n",
            "19                Kit de bancas   16413300.0\n",
            "20                Mesa de noche   15679600.0\n",
            "21            Guitarra acústica   14074000.0\n",
            "22              Mesa de comedor   12141200.0\n",
            "23                    Impresora   10531500.0\n",
            "24                       Sillón    9879200.0\n",
            "25                Juego de mesa    8058000.0\n",
            "26                 Set de ollas    7621900.0\n",
            "27                   Smartwatch    7614500.0\n",
            "28            Asistente virtual    7452400.0\n",
            "29               Mesa de centro    6307700.0\n",
            "30    Auriculares con micrófono    5043700.0\n",
            "31                  Auriculares    4730800.0\n",
            "32    Carrito de control remoto    3867200.0\n",
            "33                      Mochila    3761800.0\n",
            "34              Olla de presión    3172500.0\n",
            "35          Modelado predictivo    2749800.0\n",
            "36                    Pandereta    2629300.0\n",
            "37          Balón de baloncesto    2463400.0\n",
            "38  Ciencia de datos con Python    2402300.0\n",
            "39            Balón de voleibol    2238900.0\n",
            "40    Iniciando en programación    2112200.0\n",
            "41                  Muñeca bebé    2093100.0\n",
            "42                   Cubertería    2063600.0\n",
            "43                 Vaso térmico    1937300.0\n",
            "44      Dashboards con Power BI    1865700.0\n",
            "45            Ajedrez de madera    1455700.0\n",
            "46      Bloques de construcción    1430600.0\n",
            "47                 Set de vasos    1359100.0\n",
            "48           Cuerda para saltar     696900.0\n",
            "49               Dinosaurio Rex     688900.0\n",
            "50              Cubo mágico 8x8     652800.0\n",
            "\n",
            "\n",
            "Productos más vendidos a los menos vendidos en la tienda 4\n",
            "                       Producto     Ingresos\n",
            "0                     Iphone 15  142150200.0\n",
            "1                 TV LED UHD 4K  112143300.0\n",
            "2                      Smart TV   97902200.0\n",
            "3                  Refrigerador   67452100.0\n",
            "4                   Tablet ABXY   65783600.0\n",
            "5                  Lavavajillas   62054900.0\n",
            "6              Lavadora de ropa   59062400.0\n",
            "7              Secadora de ropa   47639800.0\n",
            "8                  Celular ABXY   37693900.0\n",
            "9                     Cama king   37292200.0\n",
            "10                      Batería   34761500.0\n",
            "11                     Cama box   32651000.0\n",
            "12                       Estufa   31379400.0\n",
            "13              Sofá reclinable   31176600.0\n",
            "14           Guitarra eléctrica   29879500.0\n",
            "15                   Microondas   29462300.0\n",
            "16                    Bicicleta   27444600.0\n",
            "17                      Armario   22094700.0\n",
            "18                    Impresora   17667300.0\n",
            "19                Mesa de noche   16413300.0\n",
            "20             Silla de oficina   15679600.0\n",
            "21              Mesa de comedor   14074000.0\n",
            "22                Kit de bancas   12141200.0\n",
            "23            Guitarra acústica   10531500.0\n",
            "24                       Sillón    9879200.0\n",
            "25            Asistente virtual    8058000.0\n",
            "26                Juego de mesa    7621900.0\n",
            "27                 Set de ollas    7614500.0\n",
            "28               Mesa de centro    7452400.0\n",
            "29                   Smartwatch    6307700.0\n",
            "30    Auriculares con micrófono    5043700.0\n",
            "31                      Mochila    4730800.0\n",
            "32    Carrito de control remoto    3867200.0\n",
            "33                  Auriculares    3761800.0\n",
            "34                    Pandereta    3172500.0\n",
            "35              Olla de presión    2749800.0\n",
            "36          Modelado predictivo    2629300.0\n",
            "37                   Cubertería    2463400.0\n",
            "38          Balón de baloncesto    2402300.0\n",
            "39            Balón de voleibol    2238900.0\n",
            "40                  Muñeca bebé    2112200.0\n",
            "41                 Vaso térmico    2093100.0\n",
            "42    Iniciando en programación    2063600.0\n",
            "43  Ciencia de datos con Python    1937300.0\n",
            "44      Dashboards con Power BI    1865700.0\n",
            "45      Bloques de construcción    1455700.0\n",
            "46                 Set de vasos    1430600.0\n",
            "47            Ajedrez de madera    1359100.0\n",
            "48               Dinosaurio Rex     696900.0\n",
            "49              Cubo mágico 8x8     688900.0\n",
            "50           Cuerda para saltar     652800.0\n"
          ]
        }
      ]
    },
    {
      "cell_type": "markdown",
      "source": [
        "# 5. Envío promedio por tienda"
      ],
      "metadata": {
        "id": "Fl0cGi3bZKqU"
      }
    },
    {
      "cell_type": "code",
      "source": [
        "envio_promedio_tienda1 = tienda1['Costo de envío'].mean()\n",
        "envio_promedio_tienda2 = tienda2['Costo de envío'].mean()\n",
        "envio_promedio_tienda3 = tienda3['Costo de envío'].mean()\n",
        "envio_promedio_tienda4 = tienda4['Costo de envío'].mean()"
      ],
      "metadata": {
        "id": "S2JeaCykZNy9"
      },
      "execution_count": null,
      "outputs": []
    },
    {
      "cell_type": "code",
      "source": [
        "envio_promedio_tiensa_df = pd.DataFrame({\n",
        "    'Tienda': ['Tienda 1', 'Tienda 2', 'Tienda 3', 'Tienda 4'],\n",
        "    'Costo de Envío Promedio': [\n",
        "        envio_promedio_tienda1,\n",
        "        envio_promedio_tienda2,\n",
        "        envio_promedio_tienda3,\n",
        "        envio_promedio_tienda4,]\n",
        "}).round(2)\n"
      ],
      "metadata": {
        "id": "0tSdCie9ZQlt"
      },
      "execution_count": null,
      "outputs": []
    },
    {
      "cell_type": "code",
      "source": [
        "print('Costo de envío promedio por tienda')\n",
        "print(envio_promedio_tiensa_df)"
      ],
      "metadata": {
        "colab": {
          "base_uri": "https://localhost:8080/"
        },
        "id": "CiRjAQC6maAc",
        "outputId": "f1ce38d6-f324-4ab1-bb47-9bf50f547a87"
      },
      "execution_count": null,
      "outputs": [
        {
          "output_type": "stream",
          "name": "stdout",
          "text": [
            "Costo de envío promedio por tienda\n",
            "     Tienda  Costo de Envío Promedio\n",
            "0  Tienda 1                 26018.61\n",
            "1  Tienda 2                 25216.24\n",
            "2  Tienda 3                 24805.68\n",
            "3  Tienda 4                 23459.46\n"
          ]
        }
      ]
    },
    {
      "cell_type": "markdown",
      "source": [
        "#6. Análisis de los datos obtenidos"
      ],
      "metadata": {
        "id": "DmCUZCxAyTf9"
      }
    },
    {
      "cell_type": "code",
      "source": [
        "x_ingreso_tiendas = ['Tienda 1', 'Tienda 2', 'Tienda 3', 'Tienda 4']\n",
        "y_ingreso_tiendas = [ingreso_tienda1, ingreso_tienda2, ingreso_tienda3, ingreso_tienda4]\n",
        "\n",
        "plt.barh(x_ingreso_tiendas, y_ingreso_tiendas)\n",
        "plt.title('Gráfico de Facturación')\n",
        "plt.xlabel(\"Ingresos\")\n",
        "plt.ylabel(\"Tiendas\")\n",
        "plt.show()\n"
      ],
      "metadata": {
        "colab": {
          "base_uri": "https://localhost:8080/",
          "height": 472
        },
        "id": "qkkbYuAH1FJC",
        "outputId": "f0414d32-344b-4761-98ef-f73f6b4438bd"
      },
      "execution_count": null,
      "outputs": [
        {
          "output_type": "display_data",
          "data": {
            "text/plain": [
              "<Figure size 640x480 with 1 Axes>"
            ],
            "image/png": "[encoded data removed]"
          },
          "metadata": {}
        }
      ]
    },
    {
      "cell_type": "markdown",
      "source": [
        "Con el Gráfico de Facturación podemos ver que las 4 Tiendas han vendido bastante bien, ninguna queda atrás. La Tienda que ha vendido mas es la Tienda 1, sus ventas superan al resto de las tiendas. Por otro lado, la Tienda 4 fue la tienda que menos vendió, sus ingresos son menores al resto de las 4 tiendas."
      ],
      "metadata": {
        "id": "MIiXXWMMQIZ7"
      }
    },
    {
      "cell_type": "markdown",
      "source": [
        "En las ventas por categoría podemos ver que que los producto electrónicos son los mas populares en las cuatro tiendas, eso quiere decir que los compradores están mas interesados en los productos electrónicos y que hay una gran demanda en el mercado para esa categoría; también podemos ver que la categoría menos popular de las cuatro tiendas son los libros que son los menos vendidos, eso nos muestra que la gente a cambiado sus gusto y podemos ver que la gente esta ocupando otras medios para pasar su tiempo de ocio."
      ],
      "metadata": {
        "id": "UPtkjtQ3RzL8"
      }
    },
    {
      "cell_type": "code",
      "source": [
        "x_tienda_resenia = ['Tienda 1', 'Tienda 2', 'Tienda 3', 'Tienda 4']\n",
        "y_tienda_calificacion = [calificacion_promedio_tienda1, calificacion_promedio_tienda2, calificacion_promedio_tienda3, calificacion_promedio_tienda4]\n",
        "plt.xlabel(\"Tiendas\")\n",
        "plt.title('Gráfico de Calificación Promedio de cada Tienda')\n",
        "bar_colores = ['red', 'green', 'blue', 'grey']\n",
        "plt.bar(x_tienda_resenia, y_tienda_calificacion, color = bar_colores)\n",
        "plt.show()"
      ],
      "metadata": {
        "colab": {
          "base_uri": "https://localhost:8080/",
          "height": 472
        },
        "id": "E8lgZsxE6H-k",
        "outputId": "7b2e774b-1beb-43ee-a720-b6cb183c78ec"
      },
      "execution_count": null,
      "outputs": [
        {
          "output_type": "display_data",
          "data": {
            "text/plain": [
              "<Figure size 640x480 with 1 Axes>"
            ],
            "image/png": "[encoded data removed]"
          },
          "metadata": {}
        }
      ]
    },
    {
      "cell_type": "markdown",
      "source": [
        "En el Grafico de Calificación Promedio de cada Tienda  nos muestra que todas las tiendas tiene muy buena calificación y que la mayoría de clientes esta satisfecho con su experiencia al comprar productos en cada tienda. Eso nos indica que hay un margen para seguir mejorando la experiencia del cliente y así obtener una clientela fiel por largo tiempo."
      ],
      "metadata": {
        "id": "cQXYgje9UPAi"
      }
    },
    {
      "cell_type": "markdown",
      "source": [
        "Pero entrando en mas detalle en este grafico podemos ver que la Tienda 1 es la que tiene la menor calificación, y que la Tienda 3 tiene la mejor calificación de entre las cuatro tiendas."
      ],
      "metadata": {
        "id": "IL-Yerf-XvPU"
      }
    },
    {
      "cell_type": "code",
      "source": [
        "from google.colab import drive\n",
        "drive.mount('/content/drive')"
      ],
      "metadata": {
        "id": "jE1a85TDJ20m"
      },
      "execution_count": null,
      "outputs": []
    },
    {
      "cell_type": "code",
      "source": [
        "envio_tiendas = ['Tienda 1', 'Tienda 2', 'Tienda 3', 'Tienda 4']\n",
        "envio_promedio = [envio_promedio_tienda1, envio_promedio_tienda2, envio_promedio_tienda3, envio_promedio_tienda4]\n",
        "plt.title('Gráfico de Envío Promedio de cada Tienda')\n",
        "plt.pie(envio_promedio, labels= envio_tiendas)\n",
        "plt.show()"
      ],
      "metadata": {
        "colab": {
          "base_uri": "https://localhost:8080/",
          "height": 428
        },
        "id": "cF6Tke9dJdPk",
        "outputId": "75648a4d-316e-4ab2-d600-e03f2388f517"
      },
      "execution_count": null,
      "outputs": [
        {
          "output_type": "display_data",
          "data": {
            "text/plain": [
              "<Figure size 640x480 with 1 Axes>"
            ],
            "image/png": "[encoded data removed]"
          },
          "metadata": {}
        }
      ]
    },
    {
      "cell_type": "markdown",
      "source": [
        "En el Grafico de Envió Promedio de cada Tienda podemos ver que las 4 tiendas tienen un gastos similar en envió de productos a los clientes. Las 4 tiendas tienen la misma demanda de compra de productos en linea y podemos ver como el hábitos de los clientes ha cambiado bastante. Eso nos demuestra que la gente seguirá comprando en linea y que no es una tendencia a corto plazo. Lo que demuestra que hay que seguir mejorando el envió de productos para que el cliente este satisfecho."
      ],
      "metadata": {
        "id": "Ue-BIMuiV7Ij"
      }
    },
    {
      "cell_type": "markdown",
      "source": [],
      "metadata": {
        "id": "cVUZl0phXezr"
      }
    },
    {
      "cell_type": "markdown",
      "source": [
        "# Conclusión"
      ],
      "metadata": {
        "id": "coBpI1yZZpcO"
      }
    },
    {
      "cell_type": "markdown",
      "source": [
        "En conclusión podemos decirle al Sr Juan que para mejorar el desempeños de las tiendas y maximizar los ingresos es necesario eliminar una tienda y con esta información podemos decir que la Tienda 4 es la que hay que quitar. Con la eliminación de la Tienda 4 podemos ocupar el dinero para expandir las otras 3 tiendas y así poder aumentar los ingresas de las tiendas restantes y expandir los productos mas populares de las 3 tiendas."
      ],
      "metadata": {
        "id": "4KM435KeYowy"
      }
    }
  ]
}